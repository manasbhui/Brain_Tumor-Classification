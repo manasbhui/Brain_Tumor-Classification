{
 "cells": [
  {
   "cell_type": "code",
   "execution_count": 1,
   "id": "8a83ced4",
   "metadata": {},
   "outputs": [],
   "source": [
    "import cv2\n",
    "import numpy as np\n",
    "from matplotlib import pyplot as plt\n",
    "import os"
   ]
  },
  {
   "cell_type": "code",
   "execution_count": 2,
   "id": "4fb7dcc9",
   "metadata": {},
   "outputs": [],
   "source": [
    "def get_pixel(img, center, x, y):\n",
    "    new_value = 0\n",
    "    try:\n",
    "        if img[x][y] >= center:\n",
    "            new_value = 1\n",
    "    except:\n",
    "        pass\n",
    "    return new_value"
   ]
  },
  {
   "cell_type": "code",
   "execution_count": 3,
   "id": "0e2791e9",
   "metadata": {},
   "outputs": [],
   "source": [
    "def lbp_calculated_pixel(img, x, y):\n",
    "    '''\n",
    "\n",
    "     64 | 128 |   1\n",
    "    ----------------\n",
    "     32 |   0 |   2\n",
    "    ----------------\n",
    "     16 |   8 |   4    \n",
    "\n",
    "    '''    \n",
    "    center = img[x][y]\n",
    "    val_ar = []\n",
    "    val_ar.append(get_pixel(img, center, x-1, y+1))     # top_right\n",
    "    val_ar.append(get_pixel(img, center, x, y+1))       # right\n",
    "    val_ar.append(get_pixel(img, center, x+1, y+1))     # bottom_right\n",
    "    val_ar.append(get_pixel(img, center, x+1, y))       # bottom\n",
    "    val_ar.append(get_pixel(img, center, x+1, y-1))     # bottom_left\n",
    "    val_ar.append(get_pixel(img, center, x, y-1))       # left\n",
    "    val_ar.append(get_pixel(img, center, x-1, y-1))     # top_left\n",
    "    val_ar.append(get_pixel(img, center, x-1, y))       # top\n",
    "    \n",
    "    power_val = [1, 2, 4, 8, 16, 32, 64, 128,]\n",
    "    val = 0\n",
    "    for i in range(len(val_ar)):\n",
    "        val += val_ar[i] * power_val[i]\n",
    "    return val"
   ]
  },
  {
   "cell_type": "code",
   "execution_count": 4,
   "id": "bf6465e8",
   "metadata": {},
   "outputs": [],
   "source": [
    "def show_output(output_list):\n",
    "    output_list_len = len(output_list)\n",
    "    figure = plt.figure()\n",
    "    for i in range(output_list_len):\n",
    "        current_dict = output_list[i]\n",
    "        current_img = current_dict[\"img\"]\n",
    "        current_xlabel = current_dict[\"xlabel\"]\n",
    "        current_ylabel = current_dict[\"ylabel\"]\n",
    "        current_xtick = current_dict[\"xtick\"]\n",
    "        current_ytick = current_dict[\"ytick\"]\n",
    "        current_title = current_dict[\"title\"]\n",
    "        current_type = current_dict[\"type\"]\n",
    "        current_plot = figure.add_subplot(1, output_list_len, i+1)\n",
    "        if current_type == \"gray\":\n",
    "            current_plot.imshow(current_img, cmap = plt.get_cmap('gray'))\n",
    "            current_plot.set_title(current_title)\n",
    "            current_plot.set_xticks(current_xtick)\n",
    "            current_plot.set_yticks(current_ytick)\n",
    "            current_plot.set_xlabel(current_xlabel)\n",
    "            current_plot.set_ylabel(current_ylabel)\n",
    "        elif current_type == \"histogram\":\n",
    "            current_plot.plot(current_img, color = \"black\")\n",
    "            current_plot.set_xlim([0,260])\n",
    "            current_plot.set_title(current_title)\n",
    "            current_plot.set_xlabel(current_xlabel)\n",
    "            current_plot.set_ylabel(current_ylabel)            \n",
    "            ytick_list = [int(i) for i in current_plot.get_yticks()]\n",
    "            current_plot.set_yticklabels(ytick_list,rotation = 90)\n",
    "\n",
    "    plt.show()"
   ]
  },
  {
   "cell_type": "code",
   "execution_count": 5,
   "id": "d5a540bd",
   "metadata": {},
   "outputs": [
    {
     "name": "stdout",
     "output_type": "stream",
     "text": [
      "LBP feature extraction on images is finished.\n"
     ]
    }
   ],
   "source": [
    "def main():\n",
    "    input_folder = 'C:/Users/Manas/Desktop/OBJECT DETECTION/BT/Test/data/meningioma'  # Set the path to the input folder\n",
    "    output_folder = 'C://Users//Manas//Desktop//OBJECT DETECTION//BT//Test//data_lbp//meningioma'  # Set the path to the output folder\n",
    "\n",
    "    # Create the output folder if it doesn't exist\n",
    "    if not os.path.exists(output_folder):\n",
    "        os.makedirs(output_folder)\n",
    "\n",
    "    for filename in os.listdir(input_folder):\n",
    "        if filename.endswith('.jpg') or filename.endswith('.png'):\n",
    "            # Load the image\n",
    "            image_file = os.path.join(input_folder, filename)\n",
    "            img_bgr = cv2.imread(image_file)\n",
    "            height, width, channel = img_bgr.shape\n",
    "            img_gray = cv2.cvtColor(img_bgr, cv2.COLOR_BGR2GRAY)\n",
    "\n",
    "            # Perform LBP feature extraction\n",
    "            img_lbp = np.zeros((height, width, 3), np.uint8)\n",
    "            for i in range(0, height):\n",
    "                for j in range(0, width):\n",
    "                    img_lbp[i, j] = lbp_calculated_pixel(img_gray, i, j)\n",
    "\n",
    "            # Save the LBP image in the output folder\n",
    "            output_file = os.path.join(output_folder, filename)\n",
    "            cv2.imwrite(output_file, img_lbp)\n",
    "\n",
    "    print(\"LBP feature extraction on images is finished.\")\n",
    "\n",
    "if __name__ == '__main__':\n",
    "    main()"
   ]
  },
  {
   "cell_type": "code",
   "execution_count": 6,
   "id": "c2203ab8",
   "metadata": {},
   "outputs": [
    {
     "name": "stdout",
     "output_type": "stream",
     "text": [
      "Image subtraction is finished.\n"
     ]
    }
   ],
   "source": [
    "import cv2\n",
    "import numpy as np\n",
    "import os\n",
    "\n",
    "def subtract_images(image1, image2):\n",
    "    # Subtract image2 from image1\n",
    "    return cv2.subtract(image1, image2)\n",
    "\n",
    "def main():\n",
    "    folder1 = 'C://Users//Manas//Desktop//OBJECT DETECTION//BT//Test//data_lbp//meningioma'  # Set the path to the first folder\n",
    "    folder2 = 'C:/Users/Manas/Desktop/OBJECT DETECTION/BT/Test/data/meningioma'  # Set the path to the second folder\n",
    "    output_folder = 'C://Users//Manas//Desktop//OBJECT DETECTION//BT//Test//substracted image//meningioma_substracted'  # Set the path to the output folder\n",
    "\n",
    "    # Create the output folder if it doesn't exist\n",
    "    if not os.path.exists(output_folder):\n",
    "        os.makedirs(output_folder)\n",
    "\n",
    "    # Get the list of files in both folders\n",
    "    files1 = os.listdir(folder1)\n",
    "    files2 = os.listdir(folder2)\n",
    "\n",
    "    # Iterate over the files in folder1 and folder2\n",
    "    for file1, file2 in zip(files1, files2):\n",
    "        if file1.endswith('.jpg') and file2.endswith('.jpg'):\n",
    "            # Load the images\n",
    "            image_file1 = os.path.join(folder1, file1)\n",
    "            image_file2 = os.path.join(folder2, file2)\n",
    "            img1 = cv2.imread(image_file1)\n",
    "            img2 = cv2.imread(image_file2)\n",
    "\n",
    "            # Check if the images have the same size\n",
    "            if img1.shape == img2.shape:\n",
    "                # Subtract the images\n",
    "                subtracted_img = subtract_images(img1, img2)\n",
    "\n",
    "                # Save the subtracted image in the output folder\n",
    "                output_file = os.path.join(output_folder, file1)\n",
    "                cv2.imwrite(output_file, subtracted_img)\n",
    "\n",
    "    print(\"Image subtraction is finished.\")\n",
    "\n",
    "if __name__ == '__main__':\n",
    "    main()\n"
   ]
  },
  {
   "cell_type": "code",
   "execution_count": null,
   "id": "df4acd81",
   "metadata": {},
   "outputs": [],
   "source": []
  }
 ],
 "metadata": {
  "kernelspec": {
   "display_name": "Python 3 (ipykernel)",
   "language": "python",
   "name": "python3"
  },
  "language_info": {
   "codemirror_mode": {
    "name": "ipython",
    "version": 3
   },
   "file_extension": ".py",
   "mimetype": "text/x-python",
   "name": "python",
   "nbconvert_exporter": "python",
   "pygments_lexer": "ipython3",
   "version": "3.11.3"
  }
 },
 "nbformat": 4,
 "nbformat_minor": 5
}
