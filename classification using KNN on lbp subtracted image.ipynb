{
 "cells": [
  {
   "cell_type": "code",
   "execution_count": 51,
   "id": "c5c568f3",
   "metadata": {},
   "outputs": [],
   "source": [
    "import pandas as pd\n",
    "import numpy as np\n",
    "import cv2\n",
    "import os\n",
    "from sklearn.neighbors import KNeighborsClassifier\n",
    "from sklearn.metrics import classification_report,confusion_matrix\n",
    "from sklearn.model_selection import train_test_split,cross_val_score\n",
    "from sklearn.metrics import classification_report\n",
    "from sklearn.preprocessing import StandardScaler"
   ]
  },
  {
   "cell_type": "code",
   "execution_count": 52,
   "id": "d97ba49c",
   "metadata": {},
   "outputs": [],
   "source": [
    "# Define the paths to the image folders\n",
    "benign_path = \"C:\\\\Users\\\\Manas\\\\Desktop\\\\OBJECT DETECTION\\\\BT\\\\substracted image\\\\glioma_substracted\\\\\"\n",
    "malignant_path = \"C:\\\\Users\\\\Manas\\\\Desktop\\\\OBJECT DETECTION\\\\BT\\\\substracted image\\\\meningioma_substracted\\\\\"\n",
    "normal_path = \"C:\\\\Users\\\\Manas\\\\Desktop\\\\OBJECT DETECTION\\\\BT\\\\substracted image\\\\pituitary_substracted\\\\\""
   ]
  },
  {
   "cell_type": "code",
   "execution_count": 53,
   "id": "02b645cd",
   "metadata": {},
   "outputs": [],
   "source": [
    "# Load the images and extract features\n",
    "def extract_features(image_path):\n",
    "    # Read the image\n",
    "    img = cv2.imread(image_path)\n",
    "    # Resize the image to a fixed size\n",
    "    img = cv2.resize(img, (64,64))\n",
    "    # Convert the image to grayscale\n",
    "    gray = cv2.cvtColor(img, cv2.COLOR_BGR2GRAY)\n",
    "    # Flatten the image into a 1-dimensional array\n",
    "    features = gray.flatten()\n",
    "    return features\n"
   ]
  },
  {
   "cell_type": "code",
   "execution_count": 54,
   "id": "fbf3468f",
   "metadata": {},
   "outputs": [],
   "source": [
    "# Create a list of all image paths and labels\n",
    "images = []\n",
    "labels = []\n",
    "\n",
    "# Loop through the glioma images and add them to the list\n",
    "for file_name in os.listdir(benign_path):\n",
    "    if file_name.endswith(\".jpg\") or file_name.endswith(\".png\"):\n",
    "        image_path = os.path.join(benign_path, file_name)\n",
    "        features = extract_features(image_path)\n",
    "        images.append(features)\n",
    "        labels.append(\"glioma\")\n",
    "        \n",
    "        \n",
    "        \n",
    "# Loop through the meningioma images and add them to the list\n",
    "for file_name in os.listdir(malignant_path):\n",
    "    if file_name.endswith(\".jpg\") or file_name.endswith(\".png\"):\n",
    "        image_path = os.path.join(malignant_path, file_name)\n",
    "        features = extract_features(image_path)\n",
    "        images.append(features)\n",
    "        labels.append(\"meningioma\")\n",
    "\n",
    "# Loop through the pituitary images and add them to the list\n",
    "for file_name in os.listdir(normal_path):\n",
    "    if file_name.endswith(\".jpg\"):\n",
    "        image_path = os.path.join(normal_path, file_name)\n",
    "        features = extract_features(image_path)\n",
    "        images.append(features)\n",
    "        labels.append(\"pituitary\")"
   ]
  },
  {
   "cell_type": "code",
   "execution_count": null,
   "id": "a457f21a",
   "metadata": {},
   "outputs": [],
   "source": [
    "# Create a Pandas DataFrame from the images and labels\n",
    "data = pd.DataFrame(images)\n",
    "data[\"label\"] = labels\n"
   ]
  },
  {
   "cell_type": "code",
   "execution_count": 6,
   "id": "857913d3",
   "metadata": {},
   "outputs": [
    {
     "name": "stdout",
     "output_type": "stream",
     "text": [
      "<class 'pandas.core.frame.DataFrame'>\n",
      "RangeIndex: 5023 entries, 0 to 5022\n",
      "Columns: 4097 entries, 0 to label\n",
      "dtypes: object(1), uint8(4096)\n",
      "memory usage: 19.7+ MB\n"
     ]
    }
   ],
   "source": [
    "data.info()"
   ]
  },
  {
   "cell_type": "code",
   "execution_count": 7,
   "id": "7efe7cb1",
   "metadata": {},
   "outputs": [],
   "source": [
    "# Split the data into training and testing sets\n",
    "X = data.drop(\"label\", axis=1)\n",
    "y = data[\"label\"]\n",
    "\n",
    "\n",
    "\n",
    "X_train, X_test, y_train, y_test = train_test_split(X, y, test_size=0.20, random_state=42)\n",
    "\n",
    "\n",
    "\n",
    "# Apply feature scaling using StandardScaler\n",
    "scaler = StandardScaler()\n",
    "X_train= scaler.fit_transform(X_train)\n",
    "X_test = scaler.transform(X_test)"
   ]
  },
  {
   "cell_type": "code",
   "execution_count": 8,
   "id": "9b844d2a",
   "metadata": {},
   "outputs": [
    {
     "data": {
      "text/html": [
       "<style>#sk-container-id-1 {color: black;}#sk-container-id-1 pre{padding: 0;}#sk-container-id-1 div.sk-toggleable {background-color: white;}#sk-container-id-1 label.sk-toggleable__label {cursor: pointer;display: block;width: 100%;margin-bottom: 0;padding: 0.3em;box-sizing: border-box;text-align: center;}#sk-container-id-1 label.sk-toggleable__label-arrow:before {content: \"▸\";float: left;margin-right: 0.25em;color: #696969;}#sk-container-id-1 label.sk-toggleable__label-arrow:hover:before {color: black;}#sk-container-id-1 div.sk-estimator:hover label.sk-toggleable__label-arrow:before {color: black;}#sk-container-id-1 div.sk-toggleable__content {max-height: 0;max-width: 0;overflow: hidden;text-align: left;background-color: #f0f8ff;}#sk-container-id-1 div.sk-toggleable__content pre {margin: 0.2em;color: black;border-radius: 0.25em;background-color: #f0f8ff;}#sk-container-id-1 input.sk-toggleable__control:checked~div.sk-toggleable__content {max-height: 200px;max-width: 100%;overflow: auto;}#sk-container-id-1 input.sk-toggleable__control:checked~label.sk-toggleable__label-arrow:before {content: \"▾\";}#sk-container-id-1 div.sk-estimator input.sk-toggleable__control:checked~label.sk-toggleable__label {background-color: #d4ebff;}#sk-container-id-1 div.sk-label input.sk-toggleable__control:checked~label.sk-toggleable__label {background-color: #d4ebff;}#sk-container-id-1 input.sk-hidden--visually {border: 0;clip: rect(1px 1px 1px 1px);clip: rect(1px, 1px, 1px, 1px);height: 1px;margin: -1px;overflow: hidden;padding: 0;position: absolute;width: 1px;}#sk-container-id-1 div.sk-estimator {font-family: monospace;background-color: #f0f8ff;border: 1px dotted black;border-radius: 0.25em;box-sizing: border-box;margin-bottom: 0.5em;}#sk-container-id-1 div.sk-estimator:hover {background-color: #d4ebff;}#sk-container-id-1 div.sk-parallel-item::after {content: \"\";width: 100%;border-bottom: 1px solid gray;flex-grow: 1;}#sk-container-id-1 div.sk-label:hover label.sk-toggleable__label {background-color: #d4ebff;}#sk-container-id-1 div.sk-serial::before {content: \"\";position: absolute;border-left: 1px solid gray;box-sizing: border-box;top: 0;bottom: 0;left: 50%;z-index: 0;}#sk-container-id-1 div.sk-serial {display: flex;flex-direction: column;align-items: center;background-color: white;padding-right: 0.2em;padding-left: 0.2em;position: relative;}#sk-container-id-1 div.sk-item {position: relative;z-index: 1;}#sk-container-id-1 div.sk-parallel {display: flex;align-items: stretch;justify-content: center;background-color: white;position: relative;}#sk-container-id-1 div.sk-item::before, #sk-container-id-1 div.sk-parallel-item::before {content: \"\";position: absolute;border-left: 1px solid gray;box-sizing: border-box;top: 0;bottom: 0;left: 50%;z-index: -1;}#sk-container-id-1 div.sk-parallel-item {display: flex;flex-direction: column;z-index: 1;position: relative;background-color: white;}#sk-container-id-1 div.sk-parallel-item:first-child::after {align-self: flex-end;width: 50%;}#sk-container-id-1 div.sk-parallel-item:last-child::after {align-self: flex-start;width: 50%;}#sk-container-id-1 div.sk-parallel-item:only-child::after {width: 0;}#sk-container-id-1 div.sk-dashed-wrapped {border: 1px dashed gray;margin: 0 0.4em 0.5em 0.4em;box-sizing: border-box;padding-bottom: 0.4em;background-color: white;}#sk-container-id-1 div.sk-label label {font-family: monospace;font-weight: bold;display: inline-block;line-height: 1.2em;}#sk-container-id-1 div.sk-label-container {text-align: center;}#sk-container-id-1 div.sk-container {/* jupyter's `normalize.less` sets `[hidden] { display: none; }` but bootstrap.min.css set `[hidden] { display: none !important; }` so we also need the `!important` here to be able to override the default hidden behavior on the sphinx rendered scikit-learn.org. See: https://github.com/scikit-learn/scikit-learn/issues/21755 */display: inline-block !important;position: relative;}#sk-container-id-1 div.sk-text-repr-fallback {display: none;}</style><div id=\"sk-container-id-1\" class=\"sk-top-container\"><div class=\"sk-text-repr-fallback\"><pre>KNeighborsClassifier(algorithm=&#x27;ball_tree&#x27;, metric=&#x27;manhattan&#x27;, n_neighbors=1)</pre><b>In a Jupyter environment, please rerun this cell to show the HTML representation or trust the notebook. <br />On GitHub, the HTML representation is unable to render, please try loading this page with nbviewer.org.</b></div><div class=\"sk-container\" hidden><div class=\"sk-item\"><div class=\"sk-estimator sk-toggleable\"><input class=\"sk-toggleable__control sk-hidden--visually\" id=\"sk-estimator-id-1\" type=\"checkbox\" checked><label for=\"sk-estimator-id-1\" class=\"sk-toggleable__label sk-toggleable__label-arrow\">KNeighborsClassifier</label><div class=\"sk-toggleable__content\"><pre>KNeighborsClassifier(algorithm=&#x27;ball_tree&#x27;, metric=&#x27;manhattan&#x27;, n_neighbors=1)</pre></div></div></div></div></div>"
      ],
      "text/plain": [
       "KNeighborsClassifier(algorithm='ball_tree', metric='manhattan', n_neighbors=1)"
      ]
     },
     "execution_count": 8,
     "metadata": {},
     "output_type": "execute_result"
    }
   ],
   "source": [
    "#Create the KNN classifier and fit it to the training data\n",
    "knn = KNeighborsClassifier(n_neighbors=1, metric='manhattan', algorithm='ball_tree')\n",
    "knn.fit(X_train, y_train)\n",
    "\n"
   ]
  },
  {
   "cell_type": "code",
   "execution_count": 9,
   "id": "bffc5b73",
   "metadata": {},
   "outputs": [],
   "source": [
    "# Predict the labels for the test data\n",
    "y_pred = knn.predict(X_test)"
   ]
  },
  {
   "cell_type": "code",
   "execution_count": 10,
   "id": "2d4148e0",
   "metadata": {},
   "outputs": [
    {
     "name": "stdout",
     "output_type": "stream",
     "text": [
      "[[332  18   0]\n",
      " [ 14 297   1]\n",
      " [  0   1 342]]\n"
     ]
    }
   ],
   "source": [
    "# Print the classification report\n",
    "print(confusion_matrix(y_test,y_pred))"
   ]
  },
  {
   "cell_type": "code",
   "execution_count": 11,
   "id": "e470fc36",
   "metadata": {},
   "outputs": [
    {
     "name": "stdout",
     "output_type": "stream",
     "text": [
      "              precision    recall  f1-score   support\n",
      "\n",
      "      glioma    0.95954   0.94857   0.95402       350\n",
      "  meningioma    0.93987   0.95192   0.94586       312\n",
      "   pituitary    0.99708   0.99708   0.99708       343\n",
      "\n",
      "    accuracy                        0.96617      1005\n",
      "   macro avg    0.96550   0.96586   0.96566      1005\n",
      "weighted avg    0.96625   0.96617   0.96619      1005\n",
      "\n"
     ]
    }
   ],
   "source": [
    "print(classification_report(y_test, y_pred, digits = 5))"
   ]
  },
  {
   "cell_type": "code",
   "execution_count": 12,
   "id": "f4b75e97",
   "metadata": {},
   "outputs": [],
   "source": [
    "from sklearn.model_selection import train_test_split,cross_val_score\n",
    "\"\"\"X = data.drop(\"label\", axis=1)\n",
    "y = data[\"label\"]\"\"\"\n",
    "\n",
    "scores = cross_val_score(knn, X, y, cv=5)"
   ]
  },
  {
   "cell_type": "code",
   "execution_count": 13,
   "id": "a7048b80",
   "metadata": {},
   "outputs": [
    {
     "name": "stdout",
     "output_type": "stream",
     "text": [
      "Average Accuracy:  0.9100055499395452\n"
     ]
    }
   ],
   "source": [
    "print(\"Average Accuracy: \", np.mean(scores))"
   ]
  },
  {
   "cell_type": "code",
   "execution_count": 14,
   "id": "28556914",
   "metadata": {},
   "outputs": [
    {
     "name": "stdout",
     "output_type": "stream",
     "text": [
      "[0.95721393 0.89054726 0.92437811 0.89940239 0.87848606]\n"
     ]
    }
   ],
   "source": [
    "print(scores)"
   ]
  },
  {
   "cell_type": "code",
   "execution_count": null,
   "id": "ce8a10d1",
   "metadata": {},
   "outputs": [],
   "source": []
  },
  {
   "cell_type": "code",
   "execution_count": null,
   "id": "6b9e063b",
   "metadata": {},
   "outputs": [],
   "source": []
  },
  {
   "cell_type": "code",
   "execution_count": null,
   "id": "ab5cae3b",
   "metadata": {},
   "outputs": [],
   "source": []
  },
  {
   "cell_type": "code",
   "execution_count": 42,
   "id": "a9ea2365",
   "metadata": {},
   "outputs": [],
   "source": [
    "# Define the paths to the new dataset folders\n",
    "new_glioma_path = \"C:\\\\Users\\\\Manas\\\\Desktop\\\\OBJECT DETECTION\\\\BT\\\\Test\\\\enhanced image\\\\glioma_enhanced\"\n",
    "new_meningioma_path = \"C:\\\\Users\\\\Manas\\\\Desktop\\\\OBJECT DETECTION\\\\BT\\\\Test\\\\enhanced image\\\\meningioma_enhanced\"\n",
    "new_pituitary_path = \"C:\\\\Users\\\\Manas\\\\Desktop\\\\OBJECT DETECTION\\\\BT\\\\Test\\\\enhanced image\\\\pituitary_enhanced\""
   ]
  },
  {
   "cell_type": "code",
   "execution_count": 43,
   "id": "2baf6fb8",
   "metadata": {},
   "outputs": [],
   "source": [
    "# Create a list of all image paths and labels for the new dataset\n",
    "new_images = []\n",
    "new_labels = []\n",
    "\n",
    "# Function to extract features from an image (similar to previous code)\n",
    "def extract_features(image_path):\n",
    "    # Read the image\n",
    "    img = cv2.imread(image_path)\n",
    "    # Resize the image to a fixed size\n",
    "    img = cv2.resize(img, (64, 64))\n",
    "    # Convert the image to grayscale\n",
    "    gray = cv2.cvtColor(img, cv2.COLOR_BGR2GRAY)\n",
    "    # Flatten the image into a 1-dimensional array\n",
    "    features = gray.flatten()\n",
    "    return features\n",
    "\n",
    "# Function to load images from a folder and append them to the lists\n",
    "def load_images_from_folder(folder, label):\n",
    "    for file_name in os.listdir(folder):\n",
    "        if file_name.endswith(\".jpg\") or file_name.endswith(\".png\"):\n",
    "            image_path = os.path.join(folder, file_name)\n",
    "            features = extract_features(image_path)\n",
    "            new_images.append(features)\n",
    "            new_labels.append(label)\n",
    "# Load images from each folder in the new dataset and assign labels\n",
    "load_images_from_folder(new_glioma_path, \"glioma\")\n",
    "load_images_from_folder(new_meningioma_path, \"meningioma\")\n",
    "load_images_from_folder(new_pituitary_path, \"pituitary\")"
   ]
  },
  {
   "cell_type": "code",
   "execution_count": 44,
   "id": "178b87a8",
   "metadata": {},
   "outputs": [],
   "source": [
    "# Create a Pandas DataFrame from the new dataset\n",
    "new_data = pd.DataFrame(new_images)\n",
    "new_data[\"label\"] = new_labels"
   ]
  },
  {
   "cell_type": "code",
   "execution_count": 45,
   "id": "bdc6250b",
   "metadata": {},
   "outputs": [],
   "source": [
    "# Separate features and labels for the new dataset\n",
    "X_new = new_data.drop(\"label\", axis=1)\n",
    "y_new = new_data[\"label\"]"
   ]
  },
  {
   "cell_type": "code",
   "execution_count": 46,
   "id": "718fae5e",
   "metadata": {},
   "outputs": [],
   "source": [
    "# Apply the same feature scaling as before\n",
    "scaler = StandardScaler()\n",
    "X_new = scaler.fit_transform(X_new)"
   ]
  },
  {
   "cell_type": "code",
   "execution_count": 47,
   "id": "a8ef6d63",
   "metadata": {},
   "outputs": [],
   "source": [
    "# Predict the labels for the new dataset\n",
    "y_pred_new = knn.predict(X_new)"
   ]
  },
  {
   "cell_type": "code",
   "execution_count": 48,
   "id": "8d76434e",
   "metadata": {},
   "outputs": [
    {
     "name": "stdout",
     "output_type": "stream",
     "text": [
      "Classification Report on New Dataset:\n",
      "              precision    recall  f1-score   support\n",
      "\n",
      "      glioma    0.71642   0.48000   0.57485       100\n",
      "  meningioma    0.65833   0.79000   0.71818       100\n",
      "   pituitary    0.78761   0.89000   0.83568       100\n",
      "\n",
      "    accuracy                        0.72000       300\n",
      "   macro avg    0.72079   0.72000   0.70957       300\n",
      "weighted avg    0.72079   0.72000   0.70957       300\n",
      "\n"
     ]
    }
   ],
   "source": [
    "# Print the classification report and accuracy for the new dataset\n",
    "print(\"Classification Report on New Dataset:\")\n",
    "print(classification_report(y_new, y_pred_new, digits=5))"
   ]
  },
  {
   "cell_type": "code",
   "execution_count": 49,
   "id": "7842e533",
   "metadata": {},
   "outputs": [
    {
     "name": "stdout",
     "output_type": "stream",
     "text": [
      "Confusion Matrix on New Dataset:\n",
      "[[48 37 15]\n",
      " [12 79  9]\n",
      " [ 7  4 89]]\n"
     ]
    }
   ],
   "source": [
    "# You can also print the confusion matrix if needed\n",
    "print(\"Confusion Matrix on New Dataset:\")\n",
    "print(confusion_matrix(y_new, y_pred_new))"
   ]
  },
  {
   "cell_type": "code",
   "execution_count": 50,
   "id": "b3a5b6f3",
   "metadata": {},
   "outputs": [
    {
     "name": "stdout",
     "output_type": "stream",
     "text": [
      "Average Accuracy on New Dataset (Cross-Validation): 0.74000\n",
      "Cross-Validation Scores on New Dataset:\n",
      "[0.8  0.6  0.7  0.75 0.85]\n"
     ]
    }
   ],
   "source": [
    "# Perform k-fold cross-validation on the new dataset\n",
    "num_folds = 5  # You can change this to the desired number of folds\n",
    "scores_new = cross_val_score(knn, X_new, y_new, cv=num_folds)\n",
    "\n",
    "# Calculate and print the average accuracy\n",
    "average_accuracy = np.mean(scores_new)\n",
    "print(f\"Average Accuracy on New Dataset (Cross-Validation): {average_accuracy:.5f}\")\n",
    "\n",
    "# You can also print the individual fold scores if needed\n",
    "print(\"Cross-Validation Scores on New Dataset:\")\n",
    "print(scores_new)"
   ]
  },
  {
   "cell_type": "code",
   "execution_count": null,
   "id": "de12ade1",
   "metadata": {},
   "outputs": [],
   "source": []
  },
  {
   "cell_type": "code",
   "execution_count": null,
   "id": "ea12f28b",
   "metadata": {},
   "outputs": [],
   "source": []
  },
  {
   "cell_type": "code",
   "execution_count": null,
   "id": "5f760d88",
   "metadata": {},
   "outputs": [],
   "source": []
  }
 ],
 "metadata": {
  "kernelspec": {
   "display_name": "Python 3 (ipykernel)",
   "language": "python",
   "name": "python3"
  },
  "language_info": {
   "codemirror_mode": {
    "name": "ipython",
    "version": 3
   },
   "file_extension": ".py",
   "mimetype": "text/x-python",
   "name": "python",
   "nbconvert_exporter": "python",
   "pygments_lexer": "ipython3",
   "version": "3.11.3"
  }
 },
 "nbformat": 4,
 "nbformat_minor": 5
}
