{
 "cells": [
  {
   "cell_type": "code",
   "execution_count": 1,
   "id": "c5c568f3",
   "metadata": {},
   "outputs": [],
   "source": [
    "import pandas as pd\n",
    "import numpy as np\n",
    "import cv2\n",
    "import os\n",
    "from sklearn.neighbors import KNeighborsClassifier\n",
    "from sklearn.metrics import classification_report,confusion_matrix\n",
    "from sklearn.model_selection import train_test_split,cross_val_score\n",
    "from sklearn.metrics import classification_report\n",
    "from sklearn.preprocessing import StandardScaler"
   ]
  },
  {
   "cell_type": "code",
   "execution_count": 2,
   "id": "d97ba49c",
   "metadata": {},
   "outputs": [],
   "source": [
    "# Define the paths to the image folders\n",
    "benign_path = \"C:\\\\Users\\\\Manas\\\\Desktop\\\\OBJECT DETECTION\\\\BT\\\\LBP_extraction\\\\glioma\\\\\"\n",
    "malignant_path = \"C:\\\\Users\\\\Manas\\\\Desktop\\\\OBJECT DETECTION\\\\BT\\\\LBP_extraction\\\\meningioma\\\\\"\n",
    "normal_path = \"C:\\\\Users\\\\Manas\\\\Desktop\\\\OBJECT DETECTION\\\\BT\\\\LBP_extraction\\\\pituitary\\\\\"\n",
    "no_tumor_path = \"C:\\\\Users\\\\Manas\\\\Desktop\\\\OBJECT DETECTION\\\\BT\\\\LBP_extraction\\\\notumor\\\\\""
   ]
  },
  {
   "cell_type": "code",
   "execution_count": 3,
   "id": "02b645cd",
   "metadata": {},
   "outputs": [],
   "source": [
    "# Load the images and extract features\n",
    "def extract_features(image_path):\n",
    "    # Read the image\n",
    "    img = cv2.imread(image_path)\n",
    "    # Resize the image to a fixed size\n",
    "    img = cv2.resize(img, (64,64))\n",
    "    # Convert the image to grayscale\n",
    "    gray = cv2.cvtColor(img, cv2.COLOR_BGR2GRAY)\n",
    "    # Flatten the image into a 1-dimensional array\n",
    "    features = gray.flatten()\n",
    "    return features\n"
   ]
  },
  {
   "cell_type": "code",
   "execution_count": 4,
   "id": "fbf3468f",
   "metadata": {},
   "outputs": [],
   "source": [
    "# Create a list of all image paths and labels\n",
    "images = []\n",
    "labels = []\n",
    "\n",
    "# Loop through the glioma images and add them to the list\n",
    "for file_name in os.listdir(benign_path):\n",
    "    if file_name.endswith(\".jpg\") or file_name.endswith(\".png\"):\n",
    "        image_path = os.path.join(benign_path, file_name)\n",
    "        features = extract_features(image_path)\n",
    "        images.append(features)\n",
    "        labels.append(\"glioma\")\n",
    "        \n",
    "        \n",
    "        \n",
    "# Loop through the meningioma images and add them to the list\n",
    "for file_name in os.listdir(malignant_path):\n",
    "    if file_name.endswith(\".jpg\") or file_name.endswith(\".png\"):\n",
    "        image_path = os.path.join(malignant_path, file_name)\n",
    "        features = extract_features(image_path)\n",
    "        images.append(features)\n",
    "        labels.append(\"meningioma\")\n",
    "\n",
    "# Loop through the pituitary images and add them to the list\n",
    "for file_name in os.listdir(normal_path):\n",
    "    if file_name.endswith(\".jpg\"):\n",
    "        image_path = os.path.join(normal_path, file_name)\n",
    "        features = extract_features(image_path)\n",
    "        images.append(features)\n",
    "        labels.append(\"pituitary\")\n",
    "\n",
    "# Loop through the no tumor images and add them to the list\n",
    "for file_name in os.listdir(no_tumor_path):\n",
    "    if file_name.endswith(\".jpg\"):\n",
    "        image_path = os.path.join(no_tumor_path, file_name)\n",
    "        features = extract_features(image_path)\n",
    "        images.append(features)\n",
    "        labels.append(\"no tumor\")"
   ]
  },
  {
   "cell_type": "code",
   "execution_count": 5,
   "id": "a457f21a",
   "metadata": {},
   "outputs": [],
   "source": [
    "# Create a Pandas DataFrame from the images and labels\n",
    "data = pd.DataFrame(images)\n",
    "data[\"label\"] = labels\n"
   ]
  },
  {
   "cell_type": "code",
   "execution_count": 6,
   "id": "857913d3",
   "metadata": {},
   "outputs": [
    {
     "name": "stdout",
     "output_type": "stream",
     "text": [
      "<class 'pandas.core.frame.DataFrame'>\n",
      "RangeIndex: 7023 entries, 0 to 7022\n",
      "Columns: 4097 entries, 0 to label\n",
      "dtypes: object(1), uint8(4096)\n",
      "memory usage: 27.5+ MB\n"
     ]
    }
   ],
   "source": [
    "data.info()"
   ]
  },
  {
   "cell_type": "code",
   "execution_count": 7,
   "id": "7efe7cb1",
   "metadata": {},
   "outputs": [],
   "source": [
    "# Split the data into training and testing sets\n",
    "X = data.drop(\"label\", axis=1)\n",
    "y = data[\"label\"]\n",
    "\n",
    "\n",
    "\n",
    "X_train, X_test, y_train, y_test = train_test_split(X, y, test_size=0.20, random_state=42)\n",
    "\n",
    "\n",
    "\n",
    "# Apply feature scaling using StandardScaler\n",
    "scaler = StandardScaler()\n",
    "X_train= scaler.fit_transform(X_train)\n",
    "X_test = scaler.transform(X_test)"
   ]
  },
  {
   "cell_type": "code",
   "execution_count": 9,
   "id": "9b844d2a",
   "metadata": {},
   "outputs": [
    {
     "data": {
      "text/html": [
       "<style>#sk-container-id-2 {color: black;}#sk-container-id-2 pre{padding: 0;}#sk-container-id-2 div.sk-toggleable {background-color: white;}#sk-container-id-2 label.sk-toggleable__label {cursor: pointer;display: block;width: 100%;margin-bottom: 0;padding: 0.3em;box-sizing: border-box;text-align: center;}#sk-container-id-2 label.sk-toggleable__label-arrow:before {content: \"▸\";float: left;margin-right: 0.25em;color: #696969;}#sk-container-id-2 label.sk-toggleable__label-arrow:hover:before {color: black;}#sk-container-id-2 div.sk-estimator:hover label.sk-toggleable__label-arrow:before {color: black;}#sk-container-id-2 div.sk-toggleable__content {max-height: 0;max-width: 0;overflow: hidden;text-align: left;background-color: #f0f8ff;}#sk-container-id-2 div.sk-toggleable__content pre {margin: 0.2em;color: black;border-radius: 0.25em;background-color: #f0f8ff;}#sk-container-id-2 input.sk-toggleable__control:checked~div.sk-toggleable__content {max-height: 200px;max-width: 100%;overflow: auto;}#sk-container-id-2 input.sk-toggleable__control:checked~label.sk-toggleable__label-arrow:before {content: \"▾\";}#sk-container-id-2 div.sk-estimator input.sk-toggleable__control:checked~label.sk-toggleable__label {background-color: #d4ebff;}#sk-container-id-2 div.sk-label input.sk-toggleable__control:checked~label.sk-toggleable__label {background-color: #d4ebff;}#sk-container-id-2 input.sk-hidden--visually {border: 0;clip: rect(1px 1px 1px 1px);clip: rect(1px, 1px, 1px, 1px);height: 1px;margin: -1px;overflow: hidden;padding: 0;position: absolute;width: 1px;}#sk-container-id-2 div.sk-estimator {font-family: monospace;background-color: #f0f8ff;border: 1px dotted black;border-radius: 0.25em;box-sizing: border-box;margin-bottom: 0.5em;}#sk-container-id-2 div.sk-estimator:hover {background-color: #d4ebff;}#sk-container-id-2 div.sk-parallel-item::after {content: \"\";width: 100%;border-bottom: 1px solid gray;flex-grow: 1;}#sk-container-id-2 div.sk-label:hover label.sk-toggleable__label {background-color: #d4ebff;}#sk-container-id-2 div.sk-serial::before {content: \"\";position: absolute;border-left: 1px solid gray;box-sizing: border-box;top: 0;bottom: 0;left: 50%;z-index: 0;}#sk-container-id-2 div.sk-serial {display: flex;flex-direction: column;align-items: center;background-color: white;padding-right: 0.2em;padding-left: 0.2em;position: relative;}#sk-container-id-2 div.sk-item {position: relative;z-index: 1;}#sk-container-id-2 div.sk-parallel {display: flex;align-items: stretch;justify-content: center;background-color: white;position: relative;}#sk-container-id-2 div.sk-item::before, #sk-container-id-2 div.sk-parallel-item::before {content: \"\";position: absolute;border-left: 1px solid gray;box-sizing: border-box;top: 0;bottom: 0;left: 50%;z-index: -1;}#sk-container-id-2 div.sk-parallel-item {display: flex;flex-direction: column;z-index: 1;position: relative;background-color: white;}#sk-container-id-2 div.sk-parallel-item:first-child::after {align-self: flex-end;width: 50%;}#sk-container-id-2 div.sk-parallel-item:last-child::after {align-self: flex-start;width: 50%;}#sk-container-id-2 div.sk-parallel-item:only-child::after {width: 0;}#sk-container-id-2 div.sk-dashed-wrapped {border: 1px dashed gray;margin: 0 0.4em 0.5em 0.4em;box-sizing: border-box;padding-bottom: 0.4em;background-color: white;}#sk-container-id-2 div.sk-label label {font-family: monospace;font-weight: bold;display: inline-block;line-height: 1.2em;}#sk-container-id-2 div.sk-label-container {text-align: center;}#sk-container-id-2 div.sk-container {/* jupyter's `normalize.less` sets `[hidden] { display: none; }` but bootstrap.min.css set `[hidden] { display: none !important; }` so we also need the `!important` here to be able to override the default hidden behavior on the sphinx rendered scikit-learn.org. See: https://github.com/scikit-learn/scikit-learn/issues/21755 */display: inline-block !important;position: relative;}#sk-container-id-2 div.sk-text-repr-fallback {display: none;}</style><div id=\"sk-container-id-2\" class=\"sk-top-container\"><div class=\"sk-text-repr-fallback\"><pre>KNeighborsClassifier(algorithm=&#x27;kd_tree&#x27;, metric=&#x27;manhattan&#x27;, n_neighbors=1)</pre><b>In a Jupyter environment, please rerun this cell to show the HTML representation or trust the notebook. <br />On GitHub, the HTML representation is unable to render, please try loading this page with nbviewer.org.</b></div><div class=\"sk-container\" hidden><div class=\"sk-item\"><div class=\"sk-estimator sk-toggleable\"><input class=\"sk-toggleable__control sk-hidden--visually\" id=\"sk-estimator-id-2\" type=\"checkbox\" checked><label for=\"sk-estimator-id-2\" class=\"sk-toggleable__label sk-toggleable__label-arrow\">KNeighborsClassifier</label><div class=\"sk-toggleable__content\"><pre>KNeighborsClassifier(algorithm=&#x27;kd_tree&#x27;, metric=&#x27;manhattan&#x27;, n_neighbors=1)</pre></div></div></div></div></div>"
      ],
      "text/plain": [
       "KNeighborsClassifier(algorithm='kd_tree', metric='manhattan', n_neighbors=1)"
      ]
     },
     "execution_count": 9,
     "metadata": {},
     "output_type": "execute_result"
    }
   ],
   "source": [
    "#Create the KNN classifier and fit it to the training data\n",
    "knn = KNeighborsClassifier(n_neighbors=1, metric='manhattan', algorithm='kd_tree')\n",
    "knn.fit(X_train, y_train)\n",
    "\n"
   ]
  },
  {
   "cell_type": "code",
   "execution_count": 10,
   "id": "bffc5b73",
   "metadata": {},
   "outputs": [],
   "source": [
    "# Predict the labels for the test data\n",
    "y_pred = knn.predict(X_test)"
   ]
  },
  {
   "cell_type": "code",
   "execution_count": 11,
   "id": "2d4148e0",
   "metadata": {},
   "outputs": [
    {
     "name": "stdout",
     "output_type": "stream",
     "text": [
      "[[319  23   5   1]\n",
      " [ 51 247  19   1]\n",
      " [  3   1 390   3]\n",
      " [  1   2  13 326]]\n"
     ]
    }
   ],
   "source": [
    "# Print the classification report\n",
    "print(confusion_matrix(y_test,y_pred))"
   ]
  },
  {
   "cell_type": "code",
   "execution_count": 12,
   "id": "e470fc36",
   "metadata": {},
   "outputs": [
    {
     "name": "stdout",
     "output_type": "stream",
     "text": [
      "              precision    recall  f1-score   support\n",
      "\n",
      "      glioma    0.85294   0.91667   0.88366       348\n",
      "  meningioma    0.90476   0.77673   0.83587       318\n",
      "    no tumor    0.91335   0.98237   0.94660       397\n",
      "   pituitary    0.98489   0.95322   0.96880       342\n",
      "\n",
      "    accuracy                        0.91246      1405\n",
      "   macro avg    0.91399   0.90725   0.90873      1405\n",
      "weighted avg    0.91386   0.91246   0.91135      1405\n",
      "\n"
     ]
    }
   ],
   "source": [
    "print(classification_report(y_test, y_pred, digits = 5))"
   ]
  },
  {
   "cell_type": "code",
   "execution_count": 13,
   "id": "f4b75e97",
   "metadata": {},
   "outputs": [],
   "source": [
    "from sklearn.model_selection import train_test_split,cross_val_score\n",
    "\"\"\"X = data.drop(\"label\", axis=1)\n",
    "y = data[\"label\"]\"\"\"\n",
    "\n",
    "scores = cross_val_score(knn, X, y, cv=5)"
   ]
  },
  {
   "cell_type": "code",
   "execution_count": 14,
   "id": "a7048b80",
   "metadata": {},
   "outputs": [
    {
     "name": "stdout",
     "output_type": "stream",
     "text": [
      "Average Accuracy:  0.834115643154789\n"
     ]
    }
   ],
   "source": [
    "print(\"Average Accuracy: \", np.mean(scores))"
   ]
  },
  {
   "cell_type": "code",
   "execution_count": 15,
   "id": "28556914",
   "metadata": {},
   "outputs": [
    {
     "name": "stdout",
     "output_type": "stream",
     "text": [
      "[0.92170819 0.74448399 0.84199288 0.85327635 0.80911681]\n"
     ]
    }
   ],
   "source": [
    "print(scores)"
   ]
  },
  {
   "cell_type": "code",
   "execution_count": null,
   "id": "a62bd9f8",
   "metadata": {},
   "outputs": [],
   "source": []
  }
 ],
 "metadata": {
  "kernelspec": {
   "display_name": "Python 3 (ipykernel)",
   "language": "python",
   "name": "python3"
  },
  "language_info": {
   "codemirror_mode": {
    "name": "ipython",
    "version": 3
   },
   "file_extension": ".py",
   "mimetype": "text/x-python",
   "name": "python",
   "nbconvert_exporter": "python",
   "pygments_lexer": "ipython3",
   "version": "3.11.3"
  }
 },
 "nbformat": 4,
 "nbformat_minor": 5
}
